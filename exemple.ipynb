{
 "cells": [
  {
   "cell_type": "code",
   "execution_count": 59,
   "metadata": {},
   "outputs": [],
   "source": [
    "#pip install AdaptiveCut"
   ]
  },
  {
   "cell_type": "code",
   "execution_count": 65,
   "metadata": {},
   "outputs": [],
   "source": [
    "from AdaptiveCut import LinkClustering\n",
    "#from AdaptiveCut import utils   "
   ]
  },
  {
   "cell_type": "code",
   "execution_count": 66,
   "metadata": {},
   "outputs": [],
   "source": [
    "name = \"sbm_100\""
   ]
  },
  {
   "cell_type": "code",
   "execution_count": 71,
   "metadata": {},
   "outputs": [],
   "source": [
    "# initialize the LinkClustering object\n",
    "dendrogram = LinkClustering.LinkClustering(name, delimiter=',')\n"
   ]
  },
  {
   "cell_type": "code",
   "execution_count": 74,
   "metadata": {},
   "outputs": [
    {
     "name": "stderr",
     "output_type": "stream",
     "text": [
      "100%|██████████| 46841/46841 [00:00<00:00, 638403.20it/s]\n"
     ]
    }
   ],
   "source": [
    "#read the data (unweighted)\n",
    "dendrogram.read_edgelist_unweighted()\n",
    "#  build the similarity/distance matrix\n",
    "dendrogram.similarities_unweighted_h(sampling_exponent=0.2)\n",
    "#sampling exponent = 0 => no sampling, increasing the exponent increases speed \n",
    "#and decreases the quality of the clustering\n",
    "\n",
    "#weighted\n",
    "#dendrogram.read_edgelist_weighted()\n",
    "#dendrogram.similarities_weighted()\n",
    "\n",
    "#weighted and directed\n",
    "#dendrogram.read_edgelist_weighted_directed()\n",
    "#dendrogram.similarities_weighted_directed()\n",
    "\n",
    "\n",
    "# build the dendrogram and perform the link clustering (aka single level cut)\n",
    "dendrogram.single_linkage_legacy()\n",
    "\n",
    "dendrogram.test_single_linkage() #test the single linkage algorithm"
   ]
  },
  {
   "cell_type": "code",
   "execution_count": 79,
   "metadata": {},
   "outputs": [],
   "source": [
    "#link clustering partition with edge id\n",
    "dendrogram.partition_lc\n",
    "\n",
    "#get link clustering partition with edges as (node1, node2)\n",
    "dendrogram.get_partition_edges(dendrogram.partition_lc)\n",
    "\n",
    "#get partition on nodes : dict {node: {partition_id: % }}\n",
    "dendrogram.get_nodes_appartenence(dendrogram.partition_lc)\n",
    "\n"
   ]
  },
  {
   "cell_type": "code",
   "execution_count": 78,
   "metadata": {},
   "outputs": [
    {
     "name": "stderr",
     "output_type": "stream",
     "text": [
      "  0%|          | 0/1000 [00:00<?, ?it/s]"
     ]
    },
    {
     "name": "stderr",
     "output_type": "stream",
     "text": [
      "100%|██████████| 1000/1000 [00:00<00:00, 2175.49it/s]\n"
     ]
    }
   ],
   "source": [
    "# Run the adaptive cut\n",
    "#T temperature parameter, low temperature less freedom for the walk, high temperature more freedom\n",
    "#steps number of steps for the walk\n",
    "dendrogram.adaptive_cut(T=1e-4,steps=1e3)"
   ]
  },
  {
   "cell_type": "code",
   "execution_count": null,
   "metadata": {},
   "outputs": [],
   "source": [
    "#AdaptiveCut partition with edge id\n",
    "dendrogram.partition_mcmc\n",
    "\n",
    "#get link clustering partition with edges as (node1, node2)\n",
    "dendrogram.get_partition_edges(dendrogram.partition_mcmc)\n",
    "\n",
    "#get partition on nodes : dict {node: {partition_id: % }}\n",
    "dendrogram.get_nodes_appartenence(dendrogram.partition_mcmc)\n"
   ]
  },
  {
   "cell_type": "code",
   "execution_count": null,
   "metadata": {},
   "outputs": [],
   "source": [
    "import matplotlib.pyplot as plt\n",
    "import plots.plot_dendrogram as plot_dendrogram"
   ]
  },
  {
   "cell_type": "code",
   "execution_count": null,
   "metadata": {},
   "outputs": [],
   "source": [
    "fig, ax = plt.subplots(1,2,figsize=(10, 5))\n",
    "dendrogram.plot_dendrogram(ax[0],dendrogram.partition_lc, title=\"Link Clustering\")\n",
    "dendrogram.plot_dendrogram(ax[1],dendrogram.partition_mcmc, title=\"Adaptive Cut\")\n",
    "plt.savefig('figs/'+name+'_dendrogram.png)"
   ]
  }
 ],
 "metadata": {
  "kernelspec": {
   "display_name": "adap_cut",
   "language": "python",
   "name": "python3"
  },
  "language_info": {
   "codemirror_mode": {
    "name": "ipython",
    "version": 3
   },
   "file_extension": ".py",
   "mimetype": "text/x-python",
   "name": "python",
   "nbconvert_exporter": "python",
   "pygments_lexer": "ipython3",
   "version": "3.8.0"
  }
 },
 "nbformat": 4,
 "nbformat_minor": 2
}
